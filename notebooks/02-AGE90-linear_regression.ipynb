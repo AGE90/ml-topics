{
 "cells": [
  {
   "attachments": {},
   "cell_type": "markdown",
   "metadata": {},
   "source": [
    "# Linear Regression\n",
    "\n",
    "Linear regression establishes a continuous and linear relationship between input data and their corresponding known output. Calculating this linear relationship leads to a classic problem of least squares. In simpler terms, we have input data in a matrix $X$ and output data in a vector (or matrix) $y$, and we want to find the coefficients $\\theta$ in such a way that:\n",
    "\n",
    "$$\n",
    "X\\theta = y\n",
    "$$\n",
    "\n",
    "Where\n",
    "\n",
    "$$\n",
    "X = \n",
    "\\begin{pmatrix}\n",
    "1 & x_1^{(1)} & \\cdots & x_n^{(1)} \\\\\n",
    "1 & x_1^{(2)} & \\cdots & x_n^{(2)} \\\\\n",
    "\\vdots & \\vdots & \\ddots & \\vdots \\\\\n",
    "1 & x_1^{(m)} & \\cdots & x_n^{(m)}\n",
    "\\end{pmatrix}, \\quad\n",
    "\\theta =\n",
    "\\begin{pmatrix}\n",
    "\\theta_0 \\\\\n",
    "\\theta_1 \\\\\n",
    "\\vdots \\\\\n",
    "\\theta_n \\\\\n",
    "\\end{pmatrix}, \\quad\n",
    "y = \n",
    "\\begin{pmatrix}\n",
    "y^{(1)} \\\\\n",
    "y^{(2)} \\\\\n",
    "\\vdots \\\\\n",
    "y^{(m)}\n",
    "\\end{pmatrix}.\n",
    "$$\n",
    "\n",
    "The solution could be as simple as $\\theta = X^{-1}y$. However, for most practical cases, $X$ is not invertible."
   ]
  },
  {
   "attachments": {},
   "cell_type": "markdown",
   "metadata": {},
   "source": [
    "## Practical example\n",
    "\n",
    "Consider the following example where we want to sell a 1000 square meter house and estimate its expected price. Therefore, we consult some online databases and find existing information about previously sold houses. With this information, we construct the following table:\n",
    "\n",
    "|  Size ($m^2$)  |  Price (USD) |\n",
    "|:--------------:|:------------:|\n",
    "|       820      |     70000    |\n",
    "|       910      |     83000    |\n",
    "|      1100      |     75000    |\n",
    "|      1100      |     93000    |\n",
    "|      1400      |     90000    |\n",
    "|      1400      |     80000    |\n",
    "|      1500      |     85000    |\n",
    "|      1600      |    114000    |\n",
    "|      1804      |    150000    |\n",
    "|      2010      |    160050    |\n",
    "|      2040      |    170000    |\n",
    "|      2500      |    175000    |\n",
    "|      3200      |    180000    |\n",
    "|      3400      |    190000    |\n",
    "\n",
    "We have paired data consisting of the house size (input data) and the sale price (corresponding label). In other words, we have the input for a supervised learning algorithm, and now we want to establish a linear relationship to make predictions for any house size in the input space. We can say that the price column is \"supervising\" the learning process.\n",
    "\n",
    "Using the information in the table, we can formulate a mathematical model by establishing the linear relationship as $y = \\theta_0 + \\theta_1 x$, where $\\theta_0$ and $\\theta_1$ are the parameters values we need to find. To do this, we create the system of equations given by $X\\theta = y$ as follows:\n",
    "\n",
    "$$\n",
    "\\begin{pmatrix}\n",
    "1 & 820 \\\\\n",
    "1 & 910 \\\\\n",
    "1 & 1100 \\\\\n",
    "\\vdots & \\vdots \\\\\n",
    "1 & 3200 \\\\\n",
    "1 & 3400\n",
    "\\end{pmatrix}\n",
    "\\begin{pmatrix}\n",
    "\\theta_0 \\\\\n",
    "\\theta_1\n",
    "\\end{pmatrix} =\n",
    "\\begin{pmatrix}\n",
    "70000 \\\\\n",
    "83000 \\\\\n",
    "75000 \\\\\n",
    "\\vdots \\\\\n",
    "180000 \\\\\n",
    "190000\n",
    "\\end{pmatrix}.\n",
    "$$\n",
    "\n",
    "Please note that the matrix $X$ should be extended to include a first column of unit terms. This accounts for the intercept constant $\\theta_0$. This intercept is also known as the bias term. Clearly, this system does not have a solution as the vector $y$ is not in the range of the extended $X$. In other words, there are no fixed values for $\\theta_0$ and $\\theta_1$ that would produce equality for all elements on both sides of the equation.\n",
    "\n",
    "Before proceeding, it is important to visualize the data in order to contextualize the problem. The following blocks of Python code generate a scatter plot of the points."
   ]
  },
  {
   "cell_type": "code",
   "execution_count": 1,
   "metadata": {},
   "outputs": [],
   "source": [
    "# requirements\n",
    "import numpy as np\n",
    "import matplotlib.pyplot as plt\n",
    "plt.style.use('ggplot')"
   ]
  },
  {
   "cell_type": "code",
   "execution_count": 4,
   "metadata": {},
   "outputs": [
    {
     "data": {
      "image/png": "[encoded data removed]",
      "text/plain": [
       "<Figure size 800x400 with 1 Axes>"
      ]
     },
     "metadata": {},
     "output_type": "display_data"
    }
   ],
   "source": [
    "# Data\n",
    "x = np.array([820, 910, 1100, 1100, 1400, 1400, 1500, 1600, 1804, 2010, 2040, 2500, 3200, 3400]).reshape(14, 1)\n",
    "y = np.array([70000, 83000, 75000, 93000, 90000, 80000, 85000, 114000, 150000, 160050, 170000, 175000, 180000, 190000]).reshape(14, 1)\n",
    "\n",
    "plt.figure(figsize=(8, 4))\n",
    "plt.scatter(x, y, label=\"Traning data\")\n",
    "plt.xlabel(\"Area\")\n",
    "plt.ylabel(\"Price\")\n",
    "plt.legend()\n",
    "plt.show()"
   ]
  }
 ],
 "metadata": {
  "kernelspec": {
   "display_name": ".venv",
   "language": "python",
   "name": "python3"
  },
  "language_info": {
   "codemirror_mode": {
    "name": "ipython",
    "version": 3
   },
   "file_extension": ".py",
   "mimetype": "text/x-python",
   "name": "python",
   "nbconvert_exporter": "python",
   "pygments_lexer": "ipython3",
   "version": "3.11.0"
  },
  "orig_nbformat": 4
 },
 "nbformat": 4,
 "nbformat_minor": 2
}
