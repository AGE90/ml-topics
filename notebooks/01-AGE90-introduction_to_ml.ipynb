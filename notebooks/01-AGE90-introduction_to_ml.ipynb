{
 "cells": [
  {
   "attachments": {},
   "cell_type": "markdown",
   "metadata": {},
   "source": [
    "# Machine Learning"
   ]
  },
  {
   "attachments": {},
   "cell_type": "markdown",
   "metadata": {},
   "source": [
    "## Introduction\n",
    "\n",
    "Machine Learning (ML) has multiple definitions. The American pioneer in the field of computer gaming and artificial intelligence, [Arthur Samuel](https://en.wikipedia.org/wiki/Arthur_Samuel_(computer_scientist)), defines ML as: \"The field of study that gives computers the ability to learn without being explicitly programmed\". The American computer scientist, [Tom Mitchell](https://en.wikipedia.org/wiki/Tom_M._Mitchell), states that machine learning is related to the study of computer algorithms that automatically improve through experience.\n",
    "\n",
    "Therefore, it is said that a computer program learns from experience $E$ with respect to a certain class of tasks $T$ and performance measure $P$ if its performance $P$ for a class of tasks $T$ improves with experience $E$.\n",
    "\n",
    "Example: In a game of chess:\n",
    "\n",
    "- $E = \\text{the experience of playing many games of chess}$.\n",
    "\n",
    "- $T = \\text{The task of playing chess}$.\n",
    "\n",
    "- $P = \\text{The probability of the program winning the next game}$."
   ]
  },
  {
   "attachments": {},
   "cell_type": "markdown",
   "metadata": {},
   "source": [
    "## Machine Learning Paradigms\n",
    "\n",
    "### Supervised learning \n",
    "\n",
    "Supervised learning is a ML paradigm where a system or argorith is used to construct a mathematical model that maps given inputs to desired outputs known as labels. The model construction is conceptualized as a \"trainning process\" where the system \"learns\" from labeled data. In this approach, the algorithm is provided with a set of input data and the corresponding correct output or target value. The goal of supervised learning is to train a model that can accurately predict the output for new, unseen input data. \n",
    "\n",
    "The process of supervised learning involves the following steps:\n",
    "\n",
    "1. **Data Collection**: Gathering a dataset that consists of input features and their corresponding output labels. This dataset is used for training the model.\n",
    "\n",
    "2. **Data Preprocessing**: Cleaning and preparing the data for training. This may involve tasks such as removing irrelevant or duplicate data, handling missing values, and scaling or normalizing the features.\n",
    "\n",
    "3. **Feature Extraction/Selection**: Identifying the relevant features that contribute to the prediction task and extracting or selecting them from the dataset. This step helps to improve the efficiency and accuracy of the model.\n",
    "\n",
    "4. **Model Training**: Using the labeled training dataset to train the model. The algorithm learns patterns and relationships between the input features and the corresponding output labels, adjusting its internal parameters or weights to minimize the prediction errors.\n",
    "\n",
    "5. **Model Evaluation**: Assessing the performance of the trained model on unseen data. This is done by using a separate dataset called the test dataset, which was not used during training. The evaluation metrics, such as accuracy, precision, recall, or mean squared error, measure how well the model generalizes to new data.\n",
    "\n",
    "6. **Prediction**: Once the model has been trained and evaluated, it can be used to make predictions or infer the output labels for new, unseen input data.\n",
    "\n",
    "Supervised learning algorithms include various techniques such as linear regression, logistic regression, decision trees, support vector machines (SVM), naive Bayes, and neural networks. The choice of algorithm depends on the nature of the problem, the characteristics of the data, and the desired prediction task (regression or classification).\n",
    "\n",
    "### Unsupervised learning\n",
    "\n",
    "Unsupervised learning is a different paradigm where the algorithm learns from unlabeled data. Unlike supervised learning, unsupervised learning algorithms do not have access to labeled examples or target outputs. Instead, they focus on discovering patterns, relationships, and structures within the data itself. The primary objective of unsupervised learning is to explore and uncover hidden patterns or representations in the data without any explicit guidance as there is no feedback based on prediction results. This can be particularly useful for tasks such as data exploration, clustering, dimensionality reduction, and anomaly detection.\n",
    "\n",
    "Here are the key aspects of unsupervised learning:\n",
    "\n",
    "1. **Data Exploration**: Unsupervised learning allows for the exploration and analysis of complex datasets. It helps to identify underlying structures, trends, or similarities within the data, which can provide valuable insights and guide further analysis.\n",
    "\n",
    "2. **Clustering**: Clustering is a common unsupervised learning task, where the algorithm groups similar data points together based on their inherent characteristics. The goal is to identify natural clusters or groups within the data, even without prior knowledge of the class labels.\n",
    "\n",
    "3. **Dimensionality Reduction**: Unsupervised learning techniques can be used to reduce the dimensionality of high-dimensional data. By extracting the most informative features or creating new representations, dimensionality reduction methods simplify the data while preserving its essential characteristics. This can facilitate visualization, improve computational efficiency, and mitigate the curse of dimensionality.\n",
    "\n",
    "4. **Anomaly Detection**: Unsupervised learning can also be applied to detect unusual or anomalous data points that deviate from the normal behavior. By learning the patterns inherent in the data, the algorithm can identify instances that are significantly different or unexpected, which may indicate outliers, fraud, or errors.\n",
    "\n",
    "5. **Generative Modeling**: Another application of unsupervised learning is generative modeling, where the algorithm learns the underlying probability distribution of the data. This enables the generation of new samples that resemble the original data distribution, allowing for tasks such as image synthesis, text generation, or data augmentation.\n",
    "\n",
    "Common unsupervised learning algorithms include k-means clustering, hierarchical clustering, principal component analysis (PCA), t-SNE, autoencoders, and generative adversarial networks (GANs).\n",
    "\n",
    "It's important to note that in unsupervised learning, the absence of labeled data means there is no explicit measure of correctness or accuracy. Instead, the goal is to uncover meaningful patterns or structures that aid in data understanding and subsequent decision-making."
   ]
  },
  {
   "cell_type": "code",
   "execution_count": null,
   "metadata": {},
   "outputs": [],
   "source": []
  }
 ],
 "metadata": {
  "language_info": {
   "name": "python"
  },
  "orig_nbformat": 4
 },
 "nbformat": 4,
 "nbformat_minor": 2
}
