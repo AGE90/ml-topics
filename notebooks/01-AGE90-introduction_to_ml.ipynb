{
 "cells": [
  {
   "attachments": {},
   "cell_type": "markdown",
   "metadata": {},
   "source": [
    "# Machine Learning\n",
    "\n",
    "Machine Learning (ML) has multiple definitions. The American pioneer in the field of computer gaming and artificial intelligence, [Arthur Samuel](https://en.wikipedia.org/wiki/Arthur_Samuel_(computer_scientist)), defines ML as: \"The field of study that gives computers the ability to learn without being explicitly programmed\". The American computer scientist, [Tom Mitchell](https://en.wikipedia.org/wiki/Tom_M._Mitchell), states that machine learning is related to the study of computer algorithms that automatically improve through experience.\n",
    "\n",
    "Therefore, it is said that a computer program learns from experience ($E$) with respect to a certain class of tasks ($T$) and performance measure ($P$) if its performance $P$ for a class of tasks $T$ improves with experience $E$.\n",
    "\n",
    "Example: In a game of chess:\n",
    "\n",
    "- $E = \\text{the experience of playing many games of chess}$.\n",
    "\n",
    "- $T = \\text{The task of playing chess}$.\n",
    "\n",
    "- $P = \\text{The probability of the program winning the next game}$."
   ]
  },
  {
   "cell_type": "code",
   "execution_count": null,
   "metadata": {},
   "outputs": [],
   "source": []
  }
 ],
 "metadata": {
  "language_info": {
   "name": "python"
  },
  "orig_nbformat": 4
 },
 "nbformat": 4,
 "nbformat_minor": 2
}
